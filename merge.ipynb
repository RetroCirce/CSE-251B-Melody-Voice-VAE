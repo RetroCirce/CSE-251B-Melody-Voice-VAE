{
 "cells": [
  {
   "cell_type": "code",
   "execution_count": 15,
   "metadata": {},
   "outputs": [
    {
     "name": "stdout",
     "output_type": "stream",
     "text": [
      "(1, 160)\n",
      "(1, 160)\n"
     ]
    }
   ],
   "source": [
    "import numpy as np\n",
    "import pypianoroll\n",
    "import os\n",
    "\n",
    "dic = np.load('interpolation.npy', allow_pickle=True)\n",
    "dic = dic.item()\n",
    "print(dic['preda'].shape)\n",
    "print(dic['predb'].shape)"
   ]
  },
  {
   "cell_type": "code",
   "execution_count": 4,
   "metadata": {},
   "outputs": [],
   "source": [
    "\"\"\"\n",
    "Arguments:\n",
    "    data: ndarray (time_steps,)\n",
    "Return:\n",
    "    pianoroll: ndarray (time_steps, 128)\n",
    "\"\"\"\n",
    "def data2pianoroll(data):\n",
    "    res = np.zeros((len(data), 128), dtype=bool)\n",
    "    prev = -1\n",
    "    for i,x in enumerate(data):\n",
    "        if x < 128:\n",
    "            res[i][x] = True\n",
    "            prev = x\n",
    "        elif x==128:\n",
    "            res[i][prev] = True\n",
    "    return res\n",
    "    \n",
    "\n",
    "\"\"\"\n",
    "Arguments:\n",
    "    measure: ndarray (160,)\n",
    "Return:\n",
    "    pianoroll: pypianoroll.Track (time_steps, 128)\n",
    "\"\"\"\n",
    "def merge(measure):\n",
    "    parts = np.split(measure, int(len(measure)/16))\n",
    "    parts = list(map(lambda x: data2pianoroll(x), parts))\n",
    "    pianoroll = np.logical_or.reduce(parts)\n",
    "    multitrack = pypianoroll.Multitrack(beat_resolution=4)\n",
    "    multitrack.append_track(pypianoroll.Track(pianoroll))\n",
    "    return multitrack"
   ]
  },
  {
   "cell_type": "code",
   "execution_count": 16,
   "metadata": {},
   "outputs": [],
   "source": [
    "pypianoroll.write(merge(dic['preda'][0]), 'preda.mid')\n",
    "pypianoroll.write(merge(dic['predb'][0]), 'predb.mid')\n",
    "for j in range(7):\n",
    "    pypianoroll.write(merge(dic['inter'][j][0]),str(j) + '.mid')"
   ]
  },
  {
   "cell_type": "code",
   "execution_count": 8,
   "metadata": {},
   "outputs": [],
   "source": [
    "for j in range(100):\n",
    "    os.mkdir(\"reconstruction_2_poly/\" + str(j))\n",
    "    for i in range(len(dic[j][\"gd\"])):\n",
    "        pypianoroll.write(merge(dic[j]['gd'][i]), \"reconstruction_2_poly/\" + str(j) + \"/\" + str(i) +  '_pred.mid')\n",
    "        pypianoroll.write(merge(dic[j]['pred'][i]), \"reconstruction_2_poly/\" + str(j) + \"/\"  + str(i) + '_truth.mid')"
   ]
  }
 ],
 "metadata": {
  "kernelspec": {
   "display_name": "Python 3",
   "language": "python",
   "name": "python3"
  },
  "language_info": {
   "codemirror_mode": {
    "name": "ipython",
    "version": 3
   },
   "file_extension": ".py",
   "mimetype": "text/x-python",
   "name": "python",
   "nbconvert_exporter": "python",
   "pygments_lexer": "ipython3",
   "version": "3.7.0"
  }
 },
 "nbformat": 4,
 "nbformat_minor": 2
}
